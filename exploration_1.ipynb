{
 "cells": [
  {
   "cell_type": "markdown",
   "metadata": {},
   "source": [
    "# Basic data exploration with the Yelp academic datasets"
   ]
  },
  {
   "cell_type": "markdown",
   "metadata": {},
   "source": [
    "You can get a Jupyter Notebook like this at http://jupyter.org/. You need Python installed - try not to use your system Python (the Python already installed on your computer) - instead, use the Anaconda distribution of Python or a Homebrew, a [package manager](https://nicoleorchard.com/blog/package-managers) for Mac, in order to use a virtual environment."
   ]
  },
  {
   "cell_type": "markdown",
   "metadata": {},
   "source": [
    "We can get ideas of how to use the data by exploring it. This means looking at the *schema*, or structure, of the data, examining what attributes are available, and visualizing it. We are going to do that."
   ]
  },
  {
   "cell_type": "markdown",
   "metadata": {},
   "source": [
    "The `json` module in Python lets us turn JSON-formatted data into Python dictionaries."
   ]
  },
  {
   "cell_type": "code",
   "execution_count": 1,
   "metadata": {
    "collapsed": true
   },
   "outputs": [],
   "source": [
    "import json\n",
    "\n",
    "user_data = []\n",
    "\n",
    "with open('yelp_academic_dataset_user.json', 'r') as fhandle:\n",
    "    for line in fhandle:\n",
    "        user_data.append(json.loads(line))"
   ]
  },
  {
   "cell_type": "markdown",
   "metadata": {},
   "source": [
    "The `with open('yelp_academic_dataset_user.json', 'r') as fhandle:` just means Python is giving us a variable called `fhandle` (like \"file handle\") to hold onto the file. The `with` statement lets us use resources like the file without having to manually close the resource. More on [`with`](http://effbot.org/zone/python-with-statement.htm) (click it)."
   ]
  },
  {
   "cell_type": "code",
   "execution_count": 2,
   "metadata": {
    "collapsed": false
   },
   "outputs": [
    {
     "name": "stdout",
     "output_type": "stream",
     "text": [
      "Yelp User Data Length\n",
      "552339\n"
     ]
    }
   ],
   "source": [
    "# How much data do we have?\n",
    "\n",
    "print(\"Yelp User Data Length\")\n",
    "print(len(user_data))"
   ]
  },
  {
   "cell_type": "code",
   "execution_count": 3,
   "metadata": {
    "collapsed": false
   },
   "outputs": [
    {
     "name": "stdout",
     "output_type": "stream",
     "text": [
      "Yelp User Data Example\n",
      "\n",
      "\n",
      "{'average_stars': 4.14,\n",
      " 'compliments': {'cool': 78,\n",
      "                 'cute': 15,\n",
      "                 'funny': 11,\n",
      "                 'hot': 48,\n",
      "                 'more': 3,\n",
      "                 'note': 20,\n",
      "                 'photos': 14,\n",
      "                 'plain': 25,\n",
      "                 'profile': 8,\n",
      "                 'writer': 9},\n",
      " 'elite': [2005, 2006],\n",
      " 'fans': 70,\n",
      " 'friends': ['rpOyqD_893cqmDAtJLbdog',\n",
      "             '4U9kSBLuBDU391x6bxU-YA',\n",
      "             'fHtTaujcyKvXglE33Z5yIw',\n",
      "             '8J4IIYcqBlFch8T90N923A',\n",
      "             'wy6l_zUo7SN0qrvNRWgySw',\n",
      "             'HDQixQ-WZEV0LVPJlIGQeQ',\n",
      "             'T4kuUr_iJiywOPdyM7gTHQ',\n",
      "             'z_5D4XEIlGAPjG3Os9ix5A',\n",
      "             'i63u3SdbrLsP4FxiSKP0Zw',\n",
      "             'pnrGw4ciBXJ6U5QB2m0F5g',\n",
      "             'ytjCBxosVSqCOQ62c4KAxg',\n",
      "             'r5uiIxwJ-I-oHBkNY2Ha3Q',\n",
      "             'niWoSKswEbooJC_M7HMbGw',\n",
      "             'kwoxiKMyoYjB1wTCYAjYRg',\n",
      "             '9A8OuP6XwLwnNb9ov3_Ncw',\n",
      "             '27MmRg8LfbZXNEHkEnKSdA',\n",
      "             'Bn4sJUTtKFZQt0FKHF2Adw',\n",
      "             'uguXfIEpI65jSCH5MgUDgA',\n",
      "             '6VZNGc2h2Bn-uyuEXgOt5g',\n",
      "             'AZ8CTtwr-4sGM2kZqF6qig',\n",
      "             'S742m-AuQicMSLDdErrLZQ',\n",
      "             'uGmQ6ab4iVpWn5m61VFhkQ',\n",
      "             'GJYJX4SujVj3BR8v2F9PDQ',\n",
      "             '3shjifK-vZkIHciyy_KbYA',\n",
      "             '4lc_H2Cf7CO0tCgyA3aSVQ',\n",
      "             'Tunkp_F1R_uFBJQTsDxD4g',\n",
      "             'B9pKfr27czBbCoAIircZdQ',\n",
      "             'pePGMO6EbDpbaZ7D2m6HIg',\n",
      "             'XRM8W6HUoXbrYKR3BCj9Rg',\n",
      "             '8DqIWXsKXOipfduYEfFpNw',\n",
      "             'dvRVX54Z9f7Om51NsTRX1w',\n",
      "             'CM0saLQmk4oAB17UmQTV-g',\n",
      "             'HANb8-8InWnju-XzBQQSBw',\n",
      "             'JuJeZeQJgv7bUreY7a1SlQ',\n",
      "             '2NVVEEYhhoVELdaPILFrDQ',\n",
      "             'e4M9_S-ASmRys3DvKQfotw',\n",
      "             'XA109o963exKgoVGcg9z7w',\n",
      "             'tVAKdax3Jbf24R7OJB99JQ',\n",
      "             'OMWT-Z6OnJLcg44lCuDuhw',\n",
      "             'd82F_FFtowYtjGtxRySehA',\n",
      "             'pW91HUnVz6ssLZ4dY-ztyQ',\n",
      "             'ojQYtstkGXtcryk5I9GTYA',\n",
      "             '4hxVql33ldY_gkf3rG8_3w',\n",
      "             '0arQ82n4mvrc42U8KuoE6g',\n",
      "             'w6Vv-kldGpmvSGqXvTbAdQ',\n",
      "             'NZeCINmoOJ8vsQvYkZAp9w',\n",
      "             'n9ltC5DxMjefffeMfBgcXQ',\n",
      "             'QBj2AL66bEAmK3ULkrn1Gw',\n",
      "             'ayZlWyV1M2k_UWx1dreIDg',\n",
      "             'AG1KRDkIa8QCCPsMnINEOg',\n",
      "             'P-lfV8cdAgEOZJkw2dJpsw',\n",
      "             '7Pef9EA21szXXOPJo6Gb5w',\n",
      "             'YvtRBqCqhSIhGGREqcqnQw',\n",
      "             '8M7I2-s5nQ8LSkuCvN0Xqg',\n",
      "             '-ETxy7f37BBQXhw5zJfkrQ',\n",
      "             'TjPt2hD56jfpmtoa6kVVRg',\n",
      "             'uZgFEPEUIWJMaaqvMlxYoA',\n",
      "             'foIpFZp5EwvUDSnyMKKAnQ',\n",
      "             'YKppbE7ogNmbtVrluxEF4A',\n",
      "             'D7uXj1_0pE_Fa2YeLkOkyw',\n",
      "             'eVV99D3EZvkuswIvIySKiw',\n",
      "             'PhwgVPqpJlxu40AxAOUBbg',\n",
      "             'gWcz4QFTW76q8VtpIlZEHQ',\n",
      "             'wpcoiQNbO5x0xkZwKFVUFw',\n",
      "             'Ot-QjYpIdVsluuxcqidjkA',\n",
      "             'E3C_gEhktux9Ca-Z2fmNTw',\n",
      "             'ClaGLOr72DPJlQhRc9HHyQ',\n",
      "             'sc6wS6YOFIgtN2XuJI8_WQ',\n",
      "             'dD5mA6kwVlBHvrNtX9EyZQ',\n",
      "             'qwvgycPC5u4JZv6DfawPqw',\n",
      "             'As_oVE27fiE-0CbDJwUDiA',\n",
      "             'SuzSrMWoycf4DXL_DMMdNg',\n",
      "             'y0SRKlzVuvj-mbQtbsWx-A',\n",
      "             'qbfQRHLvZk5WSkKY0l_lMw',\n",
      "             'D6A0rn5MIg7AVRrVeouABg',\n",
      "             'KUqpJ9eKREuvlnlitJJRYg',\n",
      "             'gOvKWYXobX_Pgzsz-K8auA',\n",
      "             'xzdZTsR2KKcQfjF4OjJeOw',\n",
      "             'DyfA7aPzRQ81kJnbkuIiJQ',\n",
      "             'tA2suyZG_qWIuNB_HR-YRA',\n",
      "             'R5QmtpSsrQ9mqIxjZIv3uw',\n",
      "             '5T8SdBwiH0jdwatUJ7KFUg',\n",
      "             '1Gfn4nlqPEIvRX4cnctJlg',\n",
      "             'A4_fxqSj4tgYet8OE3jTyA',\n",
      "             'oPD_t6BVpfhvu1-TS4FNzA',\n",
      "             'gn3Y0mWduWrvT1hvu7fv4A',\n",
      "             'NUeLSLukiPPCSK6EVdUo_Q',\n",
      "             'rtrh46NJfksxR4TgljYg9w',\n",
      "             '5zpVMWD-q6nEYapiWrSyXw',\n",
      "             'ooZ7TV6IuxuqbFgnqaoSsQ',\n",
      "             '8phGuOZ0NIfeJiTX-ZDZLA',\n",
      "             '8L1p_zlmAB_uWyaW0QTaCg',\n",
      "             's7ZSag-bHo0C4fSBDJeBDw',\n",
      "             '5ANDwUyQqsRhEl7QBKRFiw',\n",
      "             'KMGF6KAnPRoOTFVXBy9jtQ',\n",
      "             'aLz2ljnMweZUlvP-q4TayQ',\n",
      "             '6uM5lx0DCX4ctQlebtxraw',\n",
      "             'Hc6agWZ9jGCxsPAqQwlf2w',\n",
      "             'z39ulrgtvEMB2oeokx0-mw',\n",
      "             'wLt28qh-46LFhKOeByWZ0w',\n",
      "             'p4Jg_rO_AsCWZGMd_w8xjw',\n",
      "             'pJppmQyW74ejj8xCa2SHuA',\n",
      "             'hzaqnSxfRYv_Wbp6CMKtQw',\n",
      "             '0QwV8PJk9PJDFaMNw1Fcsw',\n",
      "             '6pC5j-hfP4xLZB2W0Wi1vg',\n",
      "             '8nAj60xsBjcHXLLSs7cPqw',\n",
      "             'NhbV8AbaQiKNzEU11cbxcQ',\n",
      "             '5Szwd1CSepRXwAFH12nPzQ',\n",
      "             'ifD7o8Mi67yNYwgWL5CbKg',\n",
      "             'AaZdXn0I6F5bdIVwGpxdDA',\n",
      "             'YwcacxA7WCB9fryDHDxF8w',\n",
      "             'HBFtzjRarXxDH8xZRSNsPA',\n",
      "             'zi0kxtr5gq0Flg7jYdIlMA',\n",
      "             'oWEdmTYl13VHh1A_Mkhh2g',\n",
      "             'n1GSQ7VT9sTL5MlCWolbNw',\n",
      "             'PO8XNxGUizzzKGHmn24fQQ',\n",
      "             'JTRxzA1AZ8Zfwj7FpH2CnA',\n",
      "             'AixLPxra_4HirfchjPkiWA',\n",
      "             'xOK3i0wgmkpGu54BuIcwQA',\n",
      "             'F9T6m1YdRFreyKDufcyoOQ',\n",
      "             '-cscgA-lVPipPwEX4RmcgQ',\n",
      "             'ACLuEsNHV7lfq1O7CHuFaA',\n",
      "             'UyOtYjnavsr-Dtjo6Xy91g',\n",
      "             'J11gYVC1u9S5jqEg3oh-gQ',\n",
      "             '9LZP7Ll7N9zkuWfA5DUAYw',\n",
      "             'SbM1m5nejHDD1pJePsar9g',\n",
      "             'wF7_-zf7R8Rri7Kq-a0tlw',\n",
      "             'B5o7JC4iRJ7bKPRnoYEIHg',\n",
      "             'SAPz30NHFJ95SBlvz5cTqw',\n",
      "             'fzkO1lGkx8MHhT8S4Rbg3w',\n",
      "             'tlSSQwfHYJany7wPoTH46A',\n",
      "             '2VfhMrTJ9bZ0O4PZmRmxKA',\n",
      "             'odeoZZHRQp6TkeoEQk3eeA',\n",
      "             '2XCsVpAMsGUykrM-BBFEXA',\n",
      "             'qVePixO2kuK0Dr03upCWFg',\n",
      "             'D9CIW04wrcQzZNdCEoASAg',\n",
      "             'G-iuXcbJnX3sA3lhB6nFhQ',\n",
      "             '3utEqyNzFcxH8E8pm7ByPA',\n",
      "             'T5TZfn9_9X-LTbRtaMAgUw',\n",
      "             'fczQCSmaWF78toLEmb0Zsw',\n",
      "             'Hyhmpb3UnbjtSEXvgviCow',\n",
      "             'FI-Fjxr3fUBx2q7icnqcfA',\n",
      "             'S8ZY1HEDoECqKrIUY34JOg',\n",
      "             '3JtdBvnY6Wzp22gt5zFwDg',\n",
      "             '470dZswdTHz5aaGPvIYNpg',\n",
      "             'JT5kM6wRwh7cNt8IAuX_sw',\n",
      "             'r7V9Nhes-Eg-lH0cqfpFFw',\n",
      "             '2m3lE8p8T2nFRDxIUaRXew',\n",
      "             'bZFRqP7s0Vszxeu8_IwYow',\n",
      "             'snd45oedwXxF9tsHUX_6dg',\n",
      "             '8jEK8gxHYg9w6sINujO0MQ',\n",
      "             'LTWY2Ee-SYu8ItVOebD3CQ',\n",
      "             '7zpDhrRZRTGCkAh3SHbEww',\n",
      "             'NSg7k2UFt_HqM2mvsw-n0w',\n",
      "             'egdj4-wXAzYzT5bmTAHYqQ',\n",
      "             'wxhf-RSExCGECZuz_iVV7w',\n",
      "             'C6IOtaaYdLIT5fWd7ZYIuA',\n",
      "             'jntSRFnN_O7QfFzZo24rvA',\n",
      "             'yfQwWLYtqwHKiky1hiTBew',\n",
      "             'WZgoM8UuzxjZf1AaWx3qZQ',\n",
      "             'cNj8rheuldPDX9zF6q2yaA',\n",
      "             'OqOCMRpVNvvdPDMhoG_DCA',\n",
      "             '9ZonzxW0DAqIUO_5tDqZig',\n",
      "             'rLQNlHnIKdtoqoU77CbEUQ',\n",
      "             'LbgQK5B_5IkN77FgRJHhrg',\n",
      "             'it23EnutJ6fOjeYQBDKJug',\n",
      "             '1XWzXgFvcu5pU2wj1ONQ_Q',\n",
      "             '92j9xiUMOsM3HviIGoR8Yg',\n",
      "             'AP6udBIStvWLY0T5rS_24A',\n",
      "             'G_PCzMHcOLoMyyEsxW1DFQ',\n",
      "             'ZuQ87LQYWRw3AHj-jEiQ1Q',\n",
      "             'zdutsCEMdvc0B8s3_XN3nQ',\n",
      "             'fRbbPPUdMCmL9o39yshi2g',\n",
      "             'pjgE1d3csesAkgn6rQI_RQ',\n",
      "             'C7nUczj6n0ouxWqp1I7cNQ',\n",
      "             'D8EE4gbAiXS3DF_HNRJfAw',\n",
      "             'Milv8k4zZsoCaNFZugKtJw',\n",
      "             'GALRNo-AbcAHxEdmqKl--w',\n",
      "             'XOe-I25-W_FnbYfQyafylw',\n",
      "             'kuP0AMnSGgkLfNSt0wOAgA',\n",
      "             'EwMgdjuPXLAuxxu3IOUyKA',\n",
      "             'Mx-vxv_V-SQCe76w4RmUfA',\n",
      "             '6xxVdJBdMREj1fCqjm6UtA',\n",
      "             'm61SjiXAIlOY1qAXOHEk4Q',\n",
      "             'R4sYowLqQQEpxWjQbqaFvg',\n",
      "             'OCkge7lzOw33bqMs1244Yw',\n",
      "             'rjJJ8QQg-eqb7mgMxArgBA',\n",
      "             'T_wjLgPOPXry7Bea4MzoVQ',\n",
      "             'hBwbBaBqofCgvkJ3PatuVw',\n",
      "             'epTMlecM8SZNjDhBsd64Jg',\n",
      "             'PUMROYfbVgKypcfJNxs1mw',\n",
      "             '82ZqgHOfUMV1xtpG2KfisA',\n",
      "             'IN2HcBun5PpyfQK8OC68iw',\n",
      "             'yQZL8MTulNh3d3de-N0oug',\n",
      "             'nZFcWvgPU8T4JCjOVvJU8Q',\n",
      "             'jIuc3nM9R0KWX3v-8OyLsQ',\n",
      "             'F1oGgK3NtTYnyRMxupiiuA',\n",
      "             'nGYaT5sAuqKkd48dqX_2Kw',\n",
      "             'NzP9OoNP8vBMRUSs0UXBNw',\n",
      "             'ZTs-go-xYRQOp3PSw_XGDg',\n",
      "             'gc4rNAgbGydNMAPJ85FZag',\n",
      "             'KYuljD4Tovti3J1pdBnT4g'],\n",
      " 'name': 'Russel',\n",
      " 'review_count': 108,\n",
      " 'type': 'user',\n",
      " 'user_id': '18kPq7GPye-YQ3LyKyAZPw',\n",
      " 'votes': {'cool': 245, 'funny': 167, 'useful': 280},\n",
      " 'yelping_since': '2004-10'}\n"
     ]
    }
   ],
   "source": [
    "# pprint lets you print out Python data structures such as dictionaries fancily\n",
    "\n",
    "from pprint import pprint\n",
    "print(\"Yelp User Data Example\\n\\n\")\n",
    "pprint(user_data[0])"
   ]
  },
  {
   "cell_type": "markdown",
   "metadata": {},
   "source": [
    "Let's look at what the other datasets look like."
   ]
  },
  {
   "cell_type": "code",
   "execution_count": 4,
   "metadata": {
    "collapsed": false
   },
   "outputs": [
    {
     "name": "stdout",
     "output_type": "stream",
     "text": [
      "Yelp Business Data Length\n",
      "77445\n",
      "\n",
      "\n",
      "Yelp Business Data Example\n",
      "\n",
      "\n",
      "{'attributes': {'Accepts Credit Cards': True,\n",
      "                'Alcohol': 'none',\n",
      "                'Ambience': {'casual': False,\n",
      "                             'classy': False,\n",
      "                             'divey': False,\n",
      "                             'hipster': False,\n",
      "                             'intimate': False,\n",
      "                             'romantic': False,\n",
      "                             'touristy': False,\n",
      "                             'trendy': False,\n",
      "                             'upscale': False},\n",
      "                'Attire': 'casual',\n",
      "                'Caters': False,\n",
      "                'Delivery': False,\n",
      "                'Drive-Thru': False,\n",
      "                'Good For': {'breakfast': False,\n",
      "                             'brunch': False,\n",
      "                             'dessert': False,\n",
      "                             'dinner': False,\n",
      "                             'latenight': False,\n",
      "                             'lunch': False},\n",
      "                'Good For Groups': True,\n",
      "                'Good for Kids': True,\n",
      "                'Has TV': False,\n",
      "                'Noise Level': 'average',\n",
      "                'Outdoor Seating': False,\n",
      "                'Parking': {'garage': False,\n",
      "                            'lot': False,\n",
      "                            'street': False,\n",
      "                            'valet': False,\n",
      "                            'validated': False},\n",
      "                'Price Range': 1,\n",
      "                'Take-out': True,\n",
      "                'Takes Reservations': False,\n",
      "                'Waiter Service': False},\n",
      " 'business_id': '5UmKMjUEUNdYWqANhGckJw',\n",
      " 'categories': ['Fast Food', 'Restaurants'],\n",
      " 'city': 'Dravosburg',\n",
      " 'full_address': '4734 Lebanon Church Rd\\nDravosburg, PA 15034',\n",
      " 'hours': {'Friday': {'close': '21:00', 'open': '11:00'},\n",
      "           'Monday': {'close': '21:00', 'open': '11:00'},\n",
      "           'Thursday': {'close': '21:00', 'open': '11:00'},\n",
      "           'Tuesday': {'close': '21:00', 'open': '11:00'},\n",
      "           'Wednesday': {'close': '21:00', 'open': '11:00'}},\n",
      " 'latitude': 40.3543266,\n",
      " 'longitude': -79.9007057,\n",
      " 'name': 'Mr Hoagie',\n",
      " 'neighborhoods': [],\n",
      " 'open': True,\n",
      " 'review_count': 4,\n",
      " 'stars': 4.5,\n",
      " 'state': 'PA',\n",
      " 'type': 'business'}\n",
      "Yelp Review Data Length\n",
      "2225213\n",
      "\n",
      "\n",
      "Yelp Review Data Example\n",
      "\n",
      "\n",
      "{'business_id': '5UmKMjUEUNdYWqANhGckJw',\n",
      " 'date': '2012-08-01',\n",
      " 'review_id': 'Ya85v4eqdd6k9Od8HbQjyA',\n",
      " 'stars': 4,\n",
      " 'text': 'Mr Hoagie is an institution. Walking in, it does seem like a '\n",
      "         'throwback to 30 years ago, old fashioned menu board, booths out of '\n",
      "         'the 70s, and a large selection of food. Their speciality is the '\n",
      "         'Italian Hoagie, and it is voted the best in the area year after '\n",
      "         'year. I usually order the burger, while the patties are obviously '\n",
      "         'cooked from frozen, all of the other ingredients are very fresh. '\n",
      "         'Overall, its a good alternative to Subway, which is down the road.',\n",
      " 'type': 'review',\n",
      " 'user_id': 'PUFPaY9KxDAcGqfsorJp3Q',\n",
      " 'votes': {'cool': 0, 'funny': 0, 'useful': 0}}\n"
     ]
    }
   ],
   "source": [
    "business_data = []\n",
    "\n",
    "with open('yelp_academic_dataset_business.json', 'r') as fhandle:\n",
    "    for line in fhandle:\n",
    "        business_data.append(json.loads(line))\n",
    "\n",
    "print(\"Yelp Business Data Length\")\n",
    "print(\"{}\\n\\n\".format(len(business_data)))\n",
    "print(\"Yelp Business Data Example\\n\\n\")\n",
    "pprint(business_data[0])\n",
    "\n",
    "review_data = []\n",
    "\n",
    "with open('yelp_academic_dataset_review.json', 'r') as fhandle:\n",
    "    for line in fhandle:\n",
    "        review_data.append(json.loads(line))\n",
    "\n",
    "print(\"Yelp Review Data Length\")\n",
    "print(\"{}\\n\\n\".format(len(review_data)))\n",
    "print(\"Yelp Review Data Example\\n\\n\")\n",
    "pprint(review_data[0])"
   ]
  },
  {
   "cell_type": "markdown",
   "metadata": {},
   "source": [
    "At this point, we have three lists, `user_data`, `business_data`, and `review_data`. We have an idea of what data attributes are available to us, and how many data points we have. We have a lot of data (2M reviews!). To develop and prototype code (or even for the final product), we probably don't need all of it (testing would be slow), so a common task is to grab N random data points from all of the data. Here is how you do that with the review data."
   ]
  },
  {
   "cell_type": "code",
   "execution_count": 5,
   "metadata": {
    "collapsed": false
   },
   "outputs": [
    {
     "name": "stdout",
     "output_type": "stream",
     "text": [
      "5000\n",
      "{'business_id': 'zt1TpTuJ6y9n551sw9TaEg',\n",
      " 'date': '2013-06-25',\n",
      " 'review_id': 'zYmcoXvAlfjzfpoqnjFpbg',\n",
      " 'stars': 4,\n",
      " 'text': \"I'm not a fan of buffets because I'm a believer of quality over \"\n",
      "         'quantity. For being a buffet, Wicked Spoon is actually pretty good. '\n",
      "         \"I've never seen a buffet that has roasted bone marrow! Presentation \"\n",
      "         'of all their foods is awesome. Nicely individual plated dishes. '\n",
      "         \"Dessert bar is amazing. If you're looking for a good buffet, Wicked \"\n",
      "         'Spoon ranks up there with the best of them in Las Vegas.',\n",
      " 'type': 'review',\n",
      " 'user_id': '_bBX2Gj1n69vjv8MwQMA6g',\n",
      " 'votes': {'cool': 0, 'funny': 0, 'useful': 0}}\n"
     ]
    }
   ],
   "source": [
    "import random\n",
    "\n",
    "# Let N be 5000. We're going to grab 5000 random data points\n",
    "review_data_sample_5k = random.sample(review_data, 5000)\n",
    "\n",
    "# Sanity check, let's print out the length of our sample\n",
    "print(len(review_data_sample_5k))\n",
    "\n",
    "# Sanity check, let's just pick an item from the list\n",
    "pprint(review_data_sample_5k[10])"
   ]
  },
  {
   "cell_type": "markdown",
   "metadata": {},
   "source": [
    "Cool. I am curious how the review scores are distributed. Let's grab all of the `stars` from our sample reviews."
   ]
  },
  {
   "cell_type": "code",
   "execution_count": 6,
   "metadata": {
    "collapsed": false
   },
   "outputs": [
    {
     "name": "stdout",
     "output_type": "stream",
     "text": [
      "[4, 5, 3, 1, 4, 1, 5, 1, 4, 3, 4, 5, 5, 5, 4, 4, 4, 5, 4, 5, 3, 5, 2, 4, 4, 5, 4, 4, 3, 2, 5, 4, 4, 5, 5, 4, 4, 5, 5, 1, 4, 4, 5, 4, 5, 4, 4, 5, 3, 5, 5, 4, 4, 4, 4, 5, 5, 3, 4, 3, 5, 4, 5, 4, 3, 5, 5, 3, 5, 3, 5, 5, 4, 1, 4, 3, 1, 5, 3, 5, 3, 5, 4, 4, 5, 5, 5, 3, 4, 4, 5, 1, 5, 3, 4, 5, 5, 5, 5, 4, 4, 5, 3, 4, 5, 5, 5, 3, 5, 4, 4, 5, 3, 4, 1, 2, 5, 5, 4, 5, 5, 1, 2, 5, 5, 5, 3, 5, 1, 5, 5, 2, 4, 4, 5, 1, 4, 4, 5, 1, 5, 3, 5, 5, 3, 5, 2, 5, 5, 5, 5, 4, 5, 5, 4, 5, 5, 4, 4, 5, 5, 3, 5, 5, 5, 5, 4, 5, 5, 5, 5, 3, 2, 4, 4, 3, 5, 2, 5, 1, 3, 4, 5, 4, 1, 5, 3, 4, 5, 4, 5, 5, 2, 4, 1, 5, 5, 5, 5, 4, 3, 2, 4, 5, 3, 4, 4, 4, 5, 5, 5, 4, 5, 5, 5, 5, 4, 4, 4, 4, 5, 2, 2, 4, 3, 4, 3, 5, 5, 1, 4, 5, 4, 3, 4, 5, 5, 5, 4, 5, 2, 5, 5, 5, 3, 3, 3, 4, 1, 4, 4, 2, 1, 5, 5, 5, 2, 5, 5, 4, 5, 5, 4, 4, 3, 1, 4, 5, 4, 5, 5, 4, 3, 4, 4, 5, 5, 5, 5, 3, 4, 5, 2, 3, 3, 4, 3, 5, 3, 5, 1, 4, 4, 4, 2, 5, 5, 4, 4, 4, 5, 4, 4, 5, 4, 1, 5, 5, 5, 4, 4, 5, 3, 5, 4, 4, 3, 5, 4, 4, 5, 2, 4, 3, 4, 4, 5, 5, 5, 5, 5, 1, 5, 5, 2, 2, 4, 2, 3, 5, 1, 1, 5, 3, 3, 5, 5, 4, 4, 3, 4, 1, 5, 4, 2, 4, 3, 1, 1, 5, 2, 5, 4, 5, 5, 3, 4, 2, 5, 4, 5, 4, 3, 5, 1, 5, 3, 3, 5, 5, 4, 5, 2, 5, 5, 4, 4, 1, 5, 5, 4, 1, 4, 3, 5, 5, 2, 1, 2, 5, 1, 5, 5, 3, 3, 1, 2, 4, 5, 1, 3, 5, 5, 2, 4, 4, 4, 5, 4, 5, 3, 4, 5, 4, 4, 5, 5, 3, 4, 3, 4, 3, 5, 4, 4, 5, 1, 2, 1, 5, 5, 4, 4, 5, 3, 2, 4, 4, 5, 5, 5, 4, 5, 1, 4, 5, 4, 5, 1, 5, 4, 4, 4, 2, 4, 3, 2, 5, 4, 2, 3, 5, 5, 2, 2, 4, 5, 5, 5, 5, 4, 3, 5, 5, 5, 4, 2, 5, 4, 5, 4, 5, 4, 3, 3, 4, 1, 4, 4, 5, 2, 5, 1, 2, 2, 4, 5, 3, 3, 4, 5, 5, 3, 5, 4, 5, 5, 4, 4, 5, 4, 3, 5, 4, 5, 5, 5, 5, 3, 4, 4, 1, 5, 5, 5, 3, 3, 5, 2, 3, 5, 4, 5, 1, 4, 4, 4, 5, 5, 1, 2, 4, 5, 2, 4, 1, 5, 5, 4, 5, 5, 5, 2, 5, 4, 5, 5, 5, 5, 5, 5, 1, 5, 4, 5, 5, 4, 1, 2, 5, 3, 5, 4, 1, 5, 1, 1, 5, 5, 4, 4, 4, 4, 5, 4, 5, 3, 2, 1, 5, 4, 5, 5, 2, 5, 5, 5, 3, 3, 5, 4, 5, 5, 3, 4, 5, 4, 4, 5, 1, 2, 4, 3, 5, 3, 5, 4, 3, 4, 5, 5, 5, 3, 4, 4, 4, 5, 3, 2, 3, 3, 3, 1, 5, 5, 1, 5, 5, 1, 5, 5, 1, 5, 5, 1, 5, 4, 2, 5, 1, 3, 1, 2, 1, 5, 3, 4, 5, 5, 1, 5, 4, 4, 2, 2, 5, 4, 3, 3, 3, 5, 4, 5, 4, 4, 4, 4, 1, 5, 5, 5, 5, 1, 5, 5, 5, 5, 5, 2, 3, 2, 5, 4, 4, 3, 4, 3, 5, 4, 3, 4, 4, 2, 4, 5, 3, 4, 5, 4, 5, 5, 2, 4, 5, 4, 5, 5, 5, 4, 5, 3, 5, 5, 4, 5, 1, 5, 4, 5, 4, 3, 5, 2, 4, 5, 5, 5, 2, 4, 1, 4, 1, 3, 4, 5, 3, 3, 3, 5, 3, 4, 3, 5, 3, 4, 5, 5, 5, 4, 5, 5, 5, 4, 4, 3, 4, 5, 2, 4, 5, 2, 4, 5, 5, 5, 2, 3, 5, 5, 5, 5, 4, 4, 4, 2, 4, 5, 5, 5, 1, 3, 3, 4, 5, 4, 4, 2, 1, 1, 1, 5, 4, 5, 4, 5, 4, 4, 2, 3, 3, 4, 4, 4, 4, 2, 5, 2, 5, 3, 3, 5, 5, 4, 3, 2, 3, 5, 4, 5, 5, 1, 5, 2, 5, 4, 4, 5, 1, 4, 3, 5, 4, 4, 2, 3, 4, 4, 4, 3, 4, 4, 3, 5, 2, 5, 4, 5, 5, 1, 5, 5, 4, 4, 2, 4, 3, 5, 4, 5, 1, 2, 2, 1, 4, 5, 3, 4, 5, 1, 4, 5, 4, 1, 1, 4, 4, 5, 5, 2, 5, 3, 5, 4, 5, 4, 5, 5, 3, 3, 1, 4, 5, 4, 4, 1, 4, 3, 5, 4, 4, 3, 5, 5, 4, 5, 4, 5, 4, 2, 1, 4, 1, 3, 1, 5, 4, 4, 1, 3, 1, 4, 4, 5, 4, 4, 1, 2, 5, 5, 2, 3, 2, 4, 3, 2, 5, 5, 3, 2, 3, 5, 4, 5, 1, 1, 4, 4, 5, 5, 5, 4, 5, 3, 5, 5, 5, 1, 1, 1, 5, 1, 5, 1, 1, 5, 4, 3, 2, 4, 3, 2, 5, 5, 4, 4, 3, 1, 3, 1, 4, 3, 3, 5, 2, 1, 5, 3, 4, 4, 5, 4, 5, 3, 2, 5, 3, 1, 4, 5, 4, 1, 4, 1, 3, 4, 1, 5, 5, 2, 4, 5, 2, 4, 1, 4, 5, 4, 3, 4, 3, 1, 3, 4, 1, 3, 3, 5, 4, 5, 5, 5, 4, 4, 3, 5, 4, 4, 5, 5, 5, 5, 5, 4, 5, 4, 5, 5, 3, 4, 4, 3, 2, 5, 1, 4, 2, 5, 1, 5, 3, 1, 4, 2, 4, 5, 5, 5, 3, 5, 3, 4, 5, 5, 5, 3, 4, 2, 5, 5, 3, 5, 4, 4, 5, 1, 2, 4, 3, 4, 4, 5, 5, 3, 2, 4, 5, 5, 5, 5, 4, 1, 5, 4, 3, 4, 5, 4, 4, 5, 4, 4, 4, 3, 1, 3, 1, 4, 4, 5, 5, 3, 4, 4, 3, 5, 1, 5, 5, 4, 5, 5, 5, 5, 4, 5, 1, 2, 4, 1, 5, 5, 5, 4, 5, 4, 2, 5, 3, 4, 3, 4, 5, 4, 5, 2, 4, 2, 3, 4, 4, 5, 2, 1, 5, 4, 3, 4, 4, 2, 3, 5, 4, 5, 5, 2, 3, 3, 4, 4, 2, 2, 2, 3, 2, 4, 5, 3, 5, 5, 5, 4, 5, 4, 5, 4, 5, 5, 5, 1, 5, 5, 4, 5, 5, 5, 5, 4, 4, 1, 5, 1, 4, 5, 1, 4, 5, 2, 4, 2, 5, 1, 1, 3, 4, 5, 4, 3, 3, 5, 3, 5, 5, 5, 5, 3, 1, 4, 1, 5, 3, 4, 5, 4, 2, 1, 4, 5, 4, 4, 2, 2, 4, 5, 2, 5, 4, 3, 1, 4, 4, 1, 5, 1, 5, 1, 5, 4, 4, 4, 4, 5, 5, 5, 5, 1, 3, 5, 5, 3, 5, 4, 4, 3, 3, 5, 5, 3, 5, 3, 5, 3, 5, 5, 5, 5, 4, 5, 3, 3, 2, 4, 3, 5, 5, 1, 5, 4, 5, 5, 5, 5, 5, 3, 4, 4, 3, 5, 5, 2, 5, 5, 3, 5, 3, 1, 5, 5, 5, 3, 4, 1, 3, 4, 1, 5, 2, 4, 2, 4, 1, 2, 5, 5, 4, 3, 5, 3, 4, 5, 4, 5, 4, 2, 3, 1, 3, 5, 4, 3, 2, 5, 5, 3, 3, 2, 1, 3, 1, 5, 5, 4, 1, 4, 1, 4, 4, 4, 3, 2, 4, 2, 4, 4, 5, 1, 4, 5, 3, 5, 1, 1, 4, 2, 1, 2, 5, 3, 1, 5, 4, 3, 4, 5, 3, 5, 4, 4, 3, 5, 4, 5, 5, 5, 1, 2, 4, 4, 1, 5, 4, 5, 1, 5, 5, 3, 2, 4, 1, 4, 2, 4, 5, 5, 5, 3, 5, 4, 1, 4, 5, 5, 5, 5, 5, 5, 1, 5, 5, 5, 3, 5, 4, 5, 4, 3, 5, 5, 4, 5, 5, 5, 3, 5, 5, 5, 3, 5, 4, 4, 4, 4, 5, 4, 5, 5, 3, 1, 5, 3, 2, 5, 5, 5, 1, 5, 2, 4, 5, 4, 4, 4, 5, 5, 4, 1, 4, 3, 1, 4, 5, 1, 2, 5, 4, 1, 4, 5, 2, 1, 3, 4, 1, 2, 3, 3, 5, 5, 5, 5, 2, 5, 4, 5, 3, 3, 1, 5, 4, 2, 5, 2, 4, 4, 3, 4, 2, 5, 5, 1, 2, 3, 5, 2, 5, 5, 4, 2, 5, 3, 5, 1, 4, 2, 5, 1, 5, 3, 1, 5, 5, 4, 1, 4, 2, 4, 2, 5, 5, 4, 1, 5, 1, 4, 1, 4, 3, 5, 3, 3, 3, 3, 1, 1, 4, 5, 1, 4, 5, 5, 5, 5, 4, 5, 5, 5, 4, 5, 1, 4, 5, 4, 5, 2, 4, 4, 4, 5, 4, 4, 4, 5, 4, 4, 3, 3, 5, 5, 5, 2, 4, 4, 2, 1, 3, 5, 5, 5, 1, 5, 5, 5, 2, 1, 1, 4, 5, 1, 5, 5, 1, 4, 4, 4, 2, 4, 4, 5, 5, 5, 1, 1, 4, 3, 1, 2, 5, 3, 5, 4, 5, 5, 5, 1, 4, 5, 1, 5, 2, 2, 2, 4, 2, 5, 5, 1, 5, 4, 5, 5, 5, 2, 5, 3, 4, 5, 5, 5, 5, 3, 1, 1, 5, 4, 5, 3, 4, 3, 3, 4, 5, 3, 5, 3, 5, 5, 5, 4, 4, 5, 4, 1, 4, 5, 5, 5, 4, 3, 5, 5, 3, 5, 5, 1, 4, 1, 5, 4, 5, 4, 4, 4, 5, 1, 5, 3, 1, 5, 2, 4, 4, 1, 3, 4, 5, 5, 2, 1, 5, 4, 2, 1, 4, 4, 4, 2, 3, 2, 4, 3, 2, 5, 5, 5, 4, 5, 4, 5, 5, 1, 5, 5, 5, 1, 4, 5, 5, 1, 1, 5, 4, 5, 5, 5, 4, 5, 5, 4, 5, 2, 5, 4, 5, 5, 5, 5, 4, 5, 5, 5, 5, 2, 1, 5, 4, 4, 5, 5, 5, 5, 4, 5, 2, 1, 5, 4, 1, 2, 5, 1, 1, 4, 4, 4, 3, 1, 5, 4, 5, 5, 5, 4, 4, 4, 4, 3, 4, 5, 1, 5, 3, 5, 2, 5, 2, 4, 4, 4, 1, 5, 4, 3, 1, 5, 2, 4, 1, 1, 3, 5, 4, 3, 5, 3, 5, 1, 4, 5, 4, 1, 4, 4, 3, 1, 5, 5, 4, 4, 5, 4, 4, 5, 4, 5, 5, 5, 5, 4, 1, 3, 5, 5, 3, 5, 5, 4, 3, 1, 5, 5, 5, 4, 5, 4, 5, 5, 4, 4, 1, 3, 4, 5, 3, 4, 5, 5, 5, 5, 4, 5, 5, 3, 1, 5, 4, 5, 4, 3, 3, 4, 4, 3, 5, 5, 5, 5, 1, 5, 5, 4, 2, 5, 3, 4, 5, 3, 4, 3, 3, 5, 5, 4, 3, 4, 5, 4, 2, 4, 5, 1, 3, 4, 1, 5, 4, 2, 5, 4, 4, 3, 4, 5, 5, 4, 4, 5, 3, 1, 3, 5, 3, 5, 5, 1, 2, 5, 4, 1, 4, 5, 4, 5, 5, 5, 5, 5, 4, 3, 2, 1, 5, 5, 5, 1, 3, 1, 4, 1, 2, 4, 1, 5, 5, 3, 4, 4, 4, 4, 2, 1, 3, 4, 4, 5, 3, 3, 1, 1, 5, 5, 2, 5, 5, 1, 4, 4, 3, 3, 3, 5, 5, 5, 5, 4, 4, 3, 3, 4, 5, 5, 4, 5, 4, 5, 4, 4, 4, 4, 5, 3, 5, 4, 4, 4, 5, 2, 5, 3, 4, 3, 4, 3, 1, 5, 3, 3, 4, 4, 5, 1, 4, 1, 4, 5, 3, 3, 5, 2, 4, 1, 4, 4, 5, 5, 3, 2, 5, 4, 3, 3, 2, 4, 4, 3, 4, 5, 4, 3, 5, 5, 4, 4, 4, 3, 5, 1, 5, 5, 1, 5, 5, 4, 4, 2, 4, 1, 4, 5, 3, 4, 4, 1, 5, 1, 5, 5, 4, 5, 4, 3, 5, 4, 4, 2, 4, 5, 4, 4, 4, 1, 4, 1, 5, 5, 4, 2, 5, 5, 2, 5, 4, 2, 4, 4, 4, 5, 3, 4, 3, 5, 1, 4, 5, 4, 4, 3, 4, 5, 4, 5, 1, 4, 5, 5, 5, 3, 5, 1, 1, 5, 4, 3, 2, 5, 5, 4, 5, 1, 5, 4, 2, 1, 5, 5, 5, 4, 5, 5, 1, 1, 5, 1, 5, 3, 5, 3, 5, 5, 3, 5, 5, 5, 5, 1, 4, 5, 3, 4, 4, 5, 4, 4, 4, 5, 5, 3, 5, 1, 4, 5, 3, 5, 2, 3, 1, 5, 3, 4, 4, 1, 5, 2, 5, 5, 3, 2, 2, 4, 1, 5, 5, 5, 3, 4, 3, 5, 5, 2, 5, 5, 1, 1, 4, 5, 1, 1, 4, 1, 2, 4, 3, 1, 5, 3, 5, 3, 1, 5, 3, 1, 5, 4, 5, 5, 5, 5, 5, 4, 1, 4, 4, 5, 3, 5, 3, 5, 4, 4, 5, 5, 4, 5, 5, 2, 4, 1, 2, 5, 2, 5, 5, 5, 4, 3, 3, 2, 5, 2, 5, 4, 5, 3, 4, 1, 3, 5, 5, 5, 5, 2, 5, 5, 5, 4, 5, 4, 5, 3, 5, 4, 5, 5, 1, 5, 3, 5, 5, 4, 5, 5, 5, 3, 4, 3, 4, 3, 5, 1, 3, 3, 1, 1, 4, 5, 5, 1, 5, 5, 1, 4, 1, 1, 2, 5, 5, 2, 3, 5, 3, 5, 5, 2, 5, 4, 4, 5, 1, 2, 1, 5, 4, 3, 3, 3, 4, 5, 1, 5, 5, 2, 5, 1, 2, 5, 4, 5, 5, 5, 4, 5, 2, 2, 3, 4, 5, 3, 4, 4, 5, 5, 2, 5, 5, 1, 5, 5, 5, 3, 5, 4, 4, 2, 5, 5, 5, 3, 4, 2, 5, 5, 5, 1, 5, 2, 4, 5, 4, 5, 4, 4, 4, 5, 5, 1, 1, 5, 4, 4, 5, 4, 3, 5, 4, 5, 4, 4, 4, 3, 3, 5, 1, 3, 5, 5, 4, 5, 1, 5, 2, 4, 5, 3, 1, 4, 4, 5, 5, 5, 4, 5, 5, 5, 4, 1, 3, 5, 2, 5, 2, 5, 3, 5, 5, 5, 3, 3, 5, 5, 1, 5, 4, 5, 5, 5, 5, 3, 3, 3, 5, 4, 5, 5, 5, 4, 5, 2, 5, 5, 4, 2, 4, 5, 5, 1, 5, 4, 3, 3, 5, 3, 1, 5, 5, 5, 5, 5, 5, 5, 4, 2, 4, 3, 3, 1, 5, 5, 5, 5, 5, 4, 1, 5, 2, 5, 3, 4, 5, 4, 4, 1, 5, 5, 3, 1, 2, 5, 5, 3, 5, 4, 3, 2, 3, 5, 5, 5, 5, 5, 4, 1, 4, 1, 5, 4, 4, 5, 4, 4, 5, 4, 5, 5, 4, 4, 5, 1, 5, 4, 5, 3, 3, 5, 3, 3, 5, 4, 2, 2, 1, 4, 4, 5, 1, 3, 5, 4, 5, 4, 5, 4, 4, 5, 5, 1, 5, 5, 5, 3, 4, 5, 5, 5, 5, 4, 4, 4, 3, 2, 5, 3, 4, 1, 4, 4, 1, 1, 5, 4, 4, 3, 4, 5, 2, 1, 5, 3, 5, 4, 4, 5, 4, 5, 5, 5, 5, 5, 1, 5, 2, 2, 1, 2, 4, 5, 5, 4, 4, 5, 5, 4, 4, 1, 1, 4, 5, 4, 5, 4, 3, 5, 1, 2, 4, 5, 1, 1, 4, 3, 5, 1, 5, 1, 4, 2, 3, 5, 1, 5, 1, 5, 4, 5, 1, 5, 3, 3, 5, 5, 1, 5, 3, 5, 3, 5, 4, 4, 4, 5, 5, 3, 5, 2, 5, 5, 3, 1, 5, 4, 3, 5, 3, 3, 5, 2, 5, 5, 5, 1, 3, 4, 3, 4, 3, 3, 4, 5, 3, 3, 5, 1, 5, 5, 5, 5, 5, 5, 4, 4, 4, 2, 1, 2, 5, 5, 5, 5, 5, 5, 4, 4, 1, 3, 5, 3, 2, 2, 4, 4, 5, 5, 4, 3, 5, 5, 4, 5, 5, 5, 4, 5, 4, 3, 5, 4, 2, 2, 1, 5, 4, 3, 1, 1, 4, 4, 5, 3, 2, 4, 5, 5, 4, 5, 2, 5, 5, 2, 3, 5, 5, 2, 3, 5, 1, 5, 3, 3, 1, 4, 4, 4, 1, 3, 2, 4, 1, 5, 5, 5, 4, 5, 5, 3, 1, 3, 5, 1, 4, 3, 4, 5, 2, 5, 5, 2, 4, 4, 4, 5, 2, 4, 5, 5, 3, 3, 5, 5, 3, 4, 4, 5, 4, 2, 5, 2, 4, 4, 5, 2, 5, 5, 1, 4, 3, 4, 5, 4, 5, 5, 3, 5, 4, 2, 5, 3, 5, 3, 2, 3, 2, 4, 1, 5, 1, 3, 3, 3, 3, 3, 5, 5, 4, 5, 2, 4, 2, 5, 4, 5, 1, 5, 1, 2, 4, 4, 5, 4, 5, 1, 3, 4, 5, 5, 5, 4, 5, 4, 5, 5, 5, 4, 4, 3, 5, 3, 1, 3, 5, 1, 4, 5, 4, 2, 5, 4, 5, 1, 5, 5, 5, 5, 4, 2, 5, 3, 4, 5, 2, 5, 5, 1, 2, 5, 4, 3, 2, 5, 5, 5, 1, 5, 5, 2, 4, 1, 5, 5, 5, 3, 5, 4, 4, 2, 2, 5, 4, 2, 5, 1, 3, 4, 4, 4, 4, 3, 3, 5, 5, 2, 4, 4, 3, 4, 4, 5, 5, 5, 4, 4, 5, 4, 5, 3, 4, 2, 3, 5, 5, 4, 3, 4, 1, 5, 5, 1, 5, 5, 2, 1, 5, 4, 4, 5, 5, 4, 4, 1, 4, 3, 2, 5, 3, 4, 4, 4, 4, 5, 1, 1, 5, 5, 5, 2, 4, 3, 4, 3, 4, 5, 5, 5, 5, 4, 3, 3, 4, 5, 4, 2, 3, 4, 5, 4, 4, 5, 5, 5, 5, 2, 5, 4, 4, 3, 3, 1, 4, 5, 3, 4, 5, 1, 2, 5, 5, 5, 3, 3, 2, 1, 4, 1, 3, 3, 4, 2, 5, 4, 4, 4, 5, 3, 4, 2, 4, 1, 4, 4, 2, 5, 5, 5, 3, 5, 5, 5, 5, 4, 5, 5, 5, 5, 4, 1, 3, 4, 3, 4, 5, 5, 2, 4, 2, 1, 4, 4, 1, 4, 4, 5, 5, 5, 5, 1, 5, 4, 5, 5, 2, 5, 5, 5, 4, 5, 2, 4, 4, 3, 5, 4, 5, 5, 4, 4, 5, 5, 1, 4, 5, 5, 3, 3, 2, 5, 2, 5, 3, 5, 5, 5, 5, 5, 4, 4, 4, 5, 1, 4, 4, 3, 2, 4, 2, 1, 5, 5, 4, 5, 5, 5, 4, 5, 4, 1, 2, 4, 4, 5, 4, 5, 1, 5, 5, 5, 4, 5, 4, 4, 5, 4, 5, 2, 4, 5, 4, 2, 4, 5, 5, 4, 5, 5, 4, 5, 4, 5, 5, 4, 5, 4, 5, 1, 2, 5, 4, 3, 5, 5, 2, 1, 5, 5, 5, 5, 5, 3, 2, 2, 5, 5, 5, 4, 4, 5, 5, 5, 5, 4, 3, 4, 1, 4, 5, 3, 4, 1, 4, 5, 4, 4, 5, 2, 5, 3, 4, 4, 3, 5, 3, 3, 2, 5, 5, 5, 1, 4, 5, 5, 2, 3, 4, 5, 5, 4, 5, 5, 1, 5, 5, 1, 5, 5, 1, 1, 4, 4, 3, 4, 5, 4, 4, 4, 5, 5, 3, 4, 5, 1, 3, 5, 3, 5, 1, 4, 5, 5, 2, 2, 5, 5, 5, 1, 2, 4, 3, 4, 5, 4, 4, 2, 4, 5, 5, 5, 5, 5, 4, 5, 2, 1, 5, 1, 5, 5, 5, 5, 5, 5, 5, 4, 4, 5, 1, 5, 4, 5, 5, 5, 5, 5, 1, 1, 4, 3, 4, 3, 3, 3, 5, 5, 5, 4, 5, 5, 3, 4, 4, 4, 5, 5, 4, 4, 1, 5, 5, 4, 4, 4, 5, 5, 5, 4, 5, 4, 5, 5, 5, 2, 4, 4, 5, 5, 4, 4, 5, 4, 4, 1, 4, 4, 4, 5, 2, 5, 5, 5, 1, 4, 5, 4, 4, 1, 5, 5, 2, 5, 2, 4, 5, 5, 4, 3, 5, 5, 3, 4, 5, 4, 3, 3, 3, 2, 4, 4, 3, 3, 5, 5, 1, 4, 2, 5, 5, 5, 5, 3, 1, 2, 5, 3, 4, 1, 1, 4, 2, 1, 1, 1, 4, 5, 5, 1, 5, 4, 5, 5, 5, 3, 4, 5, 5, 4, 3, 4, 4, 3, 5, 5, 5, 4, 2, 5, 2, 5, 4, 5, 5, 5, 1, 4, 1, 2, 5, 1, 2, 5, 3, 4, 1, 5, 5, 3, 5, 5, 4, 5, 2, 4, 1, 2, 5, 4, 4, 5, 5, 1, 4, 4, 3, 1, 5, 5, 4, 1, 1, 5, 5, 3, 5, 1, 1, 5, 2, 2, 5, 5, 4, 5, 4, 4, 4, 3, 4, 5, 4, 4, 4, 1, 2, 5, 5, 4, 5, 5, 4, 1, 1, 4, 5, 5, 5, 2, 3, 5, 5, 3, 4, 2, 3, 4, 3, 5, 1, 5, 5, 5, 4, 4, 3, 5, 5, 5, 4, 5, 4, 3, 4, 3, 4, 4, 5, 3, 1, 2, 5, 4, 3, 5, 4, 5, 5, 4, 4, 1, 4, 4, 1, 2, 5, 4, 4, 5, 4, 5, 5, 1, 3, 5, 5, 5, 3, 4, 1, 5, 5, 5, 3, 3, 5, 4, 5, 4, 5, 3, 4, 5, 4, 4, 5, 3, 5, 5, 4, 1, 4, 3, 5, 3, 2, 5, 2, 3, 2, 1, 5, 4, 5, 3, 5, 4, 1, 5, 5, 4, 1, 5, 5, 5, 3, 5, 4, 5, 4, 4, 1, 1, 4, 1, 3, 5, 3, 2, 5, 5, 4, 1, 2, 5, 5, 4, 3, 5, 5, 5, 4, 3, 3, 5, 3, 4, 1, 1, 4, 4, 4, 4, 4, 5, 4, 3, 1, 4, 1, 1, 5, 4, 4, 5, 5, 5, 4, 4, 3, 5, 4, 5, 4, 2, 4, 3, 1, 4, 4, 2, 3, 4, 1, 5, 4, 1, 5, 1, 5, 4, 3, 3, 3, 5, 5, 5, 4, 1, 2, 2, 5, 5, 5, 5, 5, 5, 5, 3, 3, 3, 5, 4, 4, 1, 4, 5, 4, 1, 5, 1, 3, 5, 4, 2, 1, 4, 5, 4, 5, 5, 3, 2, 5, 5, 2, 4, 4, 1, 2, 4, 5, 5, 4, 5, 3, 3, 3, 4, 5, 1, 1, 5, 5, 4, 5, 4, 1, 5, 1, 3, 3, 5, 1, 5, 5, 3, 1, 5, 5, 2, 5, 5, 3, 1, 4, 5, 4, 3, 4, 5, 1, 3, 5, 3, 5, 1, 3, 5, 5, 5, 3, 1, 4, 4, 5, 3, 5, 5, 4, 4, 5, 3, 1, 4, 4, 4, 1, 4, 3, 5, 5, 4, 5, 2, 4, 4, 4, 5, 5, 4, 1, 4, 4, 3, 5, 5, 3, 5, 5, 1, 1, 1, 5, 5, 4, 2, 5, 3, 1, 5, 1, 5, 1, 4, 5, 4, 5, 1, 1, 5, 5, 3, 4, 1, 4, 5, 4, 5, 5, 1, 4, 5, 1, 5, 1, 1, 1, 3, 5, 4, 3, 3, 3, 5, 5, 4, 5, 5, 5, 4, 3, 1, 1, 4, 5, 5, 1, 4, 1, 4, 3, 5, 2, 4, 4, 5, 5, 1, 5, 4, 2, 4, 4, 5, 5, 5, 5, 2, 5, 4, 5, 5, 2, 3, 3, 5, 4, 5, 4, 5, 5, 5, 1, 5, 1, 2, 3, 5, 1, 4, 1, 5, 5, 4, 5, 4, 5, 2, 5, 5, 2, 3, 4, 5, 4, 5, 1, 1, 5, 2, 2, 2, 5, 5, 4, 1, 5, 5, 1, 1, 4, 4, 5, 2, 5, 3, 3, 5, 4, 5, 1, 4, 4, 1, 5, 3, 1, 2, 4, 1, 3, 4, 5, 2, 5, 5, 4, 4, 5, 4, 4, 4, 4, 4, 5, 4, 3, 4, 5, 3, 4, 5, 2, 5, 5, 5, 2, 5, 5, 4, 5, 3, 5, 5, 5, 3, 4, 4, 3, 2, 1, 5, 4, 5, 5, 3, 5, 5, 5, 1, 1, 4, 3, 5, 5, 5, 1, 4, 1, 4, 3, 5, 4, 5, 4, 1, 4, 4, 5, 5, 5, 4, 4, 5, 2, 2, 5, 4, 5, 5, 5, 4, 5, 4, 3, 3, 1, 5, 4, 3, 4, 3, 5, 4, 4, 5, 3, 4, 5, 2, 2, 5, 4, 5, 4, 5, 2, 5, 3, 4, 5, 1, 3, 5, 4, 1, 3, 4, 1, 5, 4, 5, 4, 5, 2, 4, 5, 1, 5, 2, 4, 5, 5, 5, 5, 3, 3, 4, 4, 5, 4, 5, 1, 5, 5, 4, 5, 5, 4, 1, 5, 5, 5, 2, 3, 5, 5, 5, 1, 4, 5, 4, 5, 5, 4, 4, 4, 4, 3, 4, 4, 2, 5, 3, 5, 3, 1, 3, 4, 5, 2, 5, 4, 5, 4, 1, 5, 5, 5, 2, 5, 3, 5, 3, 1, 4, 4, 3, 5, 1, 5, 5, 3, 5, 4, 5, 1, 5, 5, 2, 5, 4, 4, 4, 4, 5, 5, 3, 5, 3, 4, 5, 4, 5, 2, 5, 1, 4, 5, 5, 3, 5, 2, 1, 5, 5, 4, 4, 4, 1, 4, 2, 4, 5, 3, 5, 5, 1, 3, 3, 5, 5, 4, 3, 3, 4, 3, 5, 4, 5, 5, 5, 5, 4, 3, 5, 5, 5, 5, 1, 2, 3, 3, 5, 3, 4, 5, 5, 4, 5, 5, 5, 4, 3, 5, 4, 4, 5, 5, 4, 4, 4, 3, 5, 4, 1, 5, 1, 2, 5, 1, 1, 3, 4, 3, 2, 5, 2, 3, 5, 5, 4, 2, 4, 5, 3, 5, 5, 5, 4, 1, 3, 1, 5, 4, 3, 4, 3, 5, 4, 5, 3, 4, 5, 1, 4, 5, 5, 5, 4, 4, 4, 5, 5, 5, 5, 1, 3, 2, 4, 4, 5, 2, 4, 5, 5, 5, 4, 4, 3, 5, 4, 3, 1, 1, 3, 4, 2, 2, 5, 5, 5, 5, 4, 5, 5, 1, 5, 5, 1, 5, 1, 5, 5, 3, 4, 4, 5, 5, 5, 3, 1, 4, 4, 5, 5, 5, 5, 5, 5, 5, 4, 1, 1, 5, 5, 4, 3, 3, 3, 5, 1, 3, 5, 3, 5, 4, 5, 1, 4, 5, 5, 3, 5, 4, 1, 1, 3, 4, 3, 4, 4, 5, 4, 4, 1, 4, 3, 2, 1, 5, 3, 2, 3, 5, 4, 1, 5, 1, 4, 4, 5, 4, 1, 1, 2, 4, 4, 3, 5, 4, 5, 5, 5, 5, 4, 4, 5, 1, 2, 4, 4, 4, 5, 2, 3, 1, 1, 5, 5, 4, 1, 5, 4, 2, 5, 4, 3, 4, 5, 4, 5, 5, 4, 5, 4, 1, 4, 5, 2, 5, 4, 5, 5, 4, 1, 5, 4, 1, 5, 2, 5, 2, 3, 1, 3, 1, 5, 4, 1, 4, 4, 3, 5, 5, 4, 3, 4, 1, 1, 4, 3, 3, 4, 5, 4, 1, 3, 4, 3, 4, 4, 5, 4, 5, 5, 5, 4, 4, 4, 2, 4, 5, 4, 4, 2, 4, 1, 4, 5, 1, 5, 4, 2, 5, 4, 4, 2, 2, 2, 4, 5, 5, 4, 4, 3, 4, 4, 1, 1, 3, 5, 1, 4, 1, 5, 4, 5, 5, 5, 4, 5, 3, 4, 1, 5, 5, 2, 3, 2, 5, 4, 4, 4, 4, 4, 5, 5, 3, 2, 5, 5, 3, 1, 1, 2, 1, 2, 5, 1, 5, 4, 5, 1, 5, 1, 5, 4, 4, 5, 3, 5, 3, 5, 5, 5, 3, 3, 4, 5, 1, 1, 1, 4, 4, 3, 1, 5, 4, 2, 3, 5, 5, 4, 1, 5, 5, 5, 5, 3, 5, 4, 1, 3, 5, 4, 4, 4, 3, 5, 4, 5, 2, 5, 1, 3, 1, 1, 1, 1, 5, 5, 5, 4, 5, 5, 2, 5, 3, 4, 4, 5, 4, 5, 5, 4, 5, 4, 1, 4, 4, 2, 5, 5, 5, 5, 4, 5, 3, 4, 5, 5, 5, 2, 5, 1, 5, 5, 4, 5, 4, 3, 3, 4, 4, 2, 3, 5, 5, 2, 4, 5, 5, 3, 3, 3, 5, 4, 5, 5, 5, 5, 5, 3, 4, 5, 3, 5, 5, 1, 3, 4, 4, 4, 5, 4, 3, 5, 1, 1, 5, 5, 4, 3, 4, 4, 1, 4, 4, 5, 4, 5, 1, 5, 5, 5, 1, 3, 5, 4, 5, 5, 5, 1, 1, 5, 5, 5, 3, 2, 4, 5, 2, 5, 4, 5, 2, 2, 5, 2, 4, 2, 5, 3, 5, 5, 3, 3, 4, 5, 1, 5, 5, 2, 5, 5, 5, 5, 4, 4, 4, 4, 1, 2, 4, 5, 5, 5, 5, 5, 3, 2, 5, 4, 5, 5, 5, 3, 4, 5, 5, 5, 3, 4, 4, 3, 4, 5, 4, 4, 4, 4, 3, 2, 4, 4, 2, 5, 4, 1, 5, 4, 4, 5, 4, 3, 4, 4, 5]\n"
     ]
    }
   ],
   "source": [
    "ratings_5k = []\n",
    "for review in review_data_sample_5k:\n",
    "    ratings_5k.append(review['stars'])\n",
    "print(ratings_5k)"
   ]
  },
  {
   "cell_type": "markdown",
   "metadata": {},
   "source": [
    "Let's use a visualization package called `seaborn` to plot our data in a historgram."
   ]
  },
  {
   "cell_type": "code",
   "execution_count": 7,
   "metadata": {
    "collapsed": false
   },
   "outputs": [
    {
     "data": {
      "text/plain": [
       "<matplotlib.axes._subplots.AxesSubplot at 0x26e9ca9b0>"
      ]
     },
     "execution_count": 7,
     "metadata": {},
     "output_type": "execute_result"
    },
    {
     "data": {
      "image/png": "[encoded data removed]",
      "text/plain": [
       "<matplotlib.figure.Figure at 0x26e903eb8>"
      ]
     },
     "metadata": {},
     "output_type": "display_data"
    }
   ],
   "source": [
    "import seaborn as sns\n",
    "# the following line is required to be able to show the plot inside the notebook\n",
    "%matplotlib inline\n",
    "\n",
    "sns.countplot(ratings_5k)"
   ]
  },
  {
   "cell_type": "markdown",
   "metadata": {},
   "source": [
    "Let's see how close our sample ratings distribution was to the total ratings distribution."
   ]
  },
  {
   "cell_type": "code",
   "execution_count": 8,
   "metadata": {
    "collapsed": false
   },
   "outputs": [
    {
     "data": {
      "text/plain": [
       "<matplotlib.axes._subplots.AxesSubplot at 0x271d69128>"
      ]
     },
     "execution_count": 8,
     "metadata": {},
     "output_type": "execute_result"
    },
    {
     "data": {
      "image/png": "[encoded data removed]",
      "text/plain": [
       "<matplotlib.figure.Figure at 0x2656f3d68>"
      ]
     },
     "metadata": {},
     "output_type": "display_data"
    }
   ],
   "source": [
    "ratings_2m = []\n",
    "for review in review_data:\n",
    "    ratings_2m.append(review['stars'])\n",
    "sns.countplot(ratings_2m)"
   ]
  },
  {
   "cell_type": "markdown",
   "metadata": {},
   "source": [
    "Let's try out APIs to analyze text data from reviews. For this one, we'll be using [Indico.io](https://indico.io/docs), a machine learning startup founded by students at Olin College.\n",
    "\n",
    "This is tricky because the free tier limits you to 10000 free API calls. This means we'll need to be more thoughtful when using the API. There are a few good points to follow:\n",
    "1. Make sure to store the API result after each call (such as writing it immediately to a CSV)\n",
    "2. Make sure to know what you passed into the API call in order to avoid asking the API to do the same work (so don't pick points completely at random without knowing what they are, and store the data you passed in *along with the result*)\n",
    "3. Make sure what you're passing into the API call is what you intended to pass in (e.g., when accessing data from a deeply-nested dictionary)\n",
    "4. When calling APIs within a for-loop, make sure the code you put in your for-loop won't fail out, write to a file immediately after each iteration, and handle errors gracefully.\n",
    "\n",
    "For this example, we'll grab the first 100 reviews, perform sentiment analysis on the review, and write the results to a TSV (tab-separated values)."
   ]
  },
  {
   "cell_type": "code",
   "execution_count": 9,
   "metadata": {
    "collapsed": true
   },
   "outputs": [],
   "source": [
    "review_data_first_100 = review_data[0:100]\n",
    "\n",
    "from math import ceil\n",
    "import indicoio\n",
    "# Replace this with the API key you get after making an account, and don't commit your API key in version control\n",
    "indicoio.config.api_key = 'YOUR_API_KEY'\n",
    "\n",
    "def convert_sentiment_to_yelp_rating(sentiment):\n",
    "    \"\"\"Takes a decimal between 0.0 and 1.0 `sentiment`\n",
    "    and converts it to a number between 1 and 5, a Yelp rating.\n",
    "    e.g., 0.0 < x <= 0.2 --> 1-star rating,\n",
    "          0.2 < x <= 0.4 --> 2-star rating, ...\n",
    "          0.8 < x <= 1.0 --> 5-star rating\n",
    "    \"\"\"\n",
    "    assert 0.0 <= sentiment <= 1.0\n",
    "    return int(ceil(sentiment*10/2))\n",
    "\n",
    "ratings_from_dataset = []\n",
    "ratings_from_sentiment = []\n",
    "\n",
    "with open(\"result.tsv\", \"w\") as fhandle:\n",
    "    for review in review_data_first_100:\n",
    "        # text of the review\n",
    "        text = review['text'].replace('\\n', ' ') # Replace newline characters with spaces\n",
    "        \n",
    "        # this is the API call\n",
    "        sentiment = indicoio.sentiment_hq(text)\n",
    "        \n",
    "        # let's convert this to a 1-5 scale\n",
    "        sentiment_converted = convert_sentiment_to_yelp_rating(sentiment)\n",
    "        ratings_from_sentiment.append(sentiment_converted)\n",
    "        \n",
    "        # what the user actually rated upon writing the review\n",
    "        user_rating = review['stars']\n",
    "        ratings_from_dataset.append(user_rating)\n",
    "        \n",
    "        # let's write this to a tsv\n",
    "        fhandle.write(\"{}\\t{}\\t{}\\t{}\\n\".format(text, sentiment, sentiment_converted, user_rating))"
   ]
  },
  {
   "cell_type": "code",
   "execution_count": 10,
   "metadata": {
    "collapsed": false
   },
   "outputs": [
    {
     "data": {
      "text/plain": [
       "<matplotlib.axes._subplots.AxesSubplot at 0x27333a9e8>"
      ]
     },
     "execution_count": 10,
     "metadata": {},
     "output_type": "execute_result"
    },
    {
     "data": {
      "image/png": "[encoded data removed]",
      "text/plain": [
       "<matplotlib.figure.Figure at 0x273345940>"
      ]
     },
     "metadata": {},
     "output_type": "display_data"
    }
   ],
   "source": [
    "sns.countplot(ratings_from_dataset)"
   ]
  },
  {
   "cell_type": "code",
   "execution_count": 11,
   "metadata": {
    "collapsed": false
   },
   "outputs": [
    {
     "data": {
      "text/plain": [
       "<matplotlib.axes._subplots.AxesSubplot at 0x27442cbe0>"
      ]
     },
     "execution_count": 11,
     "metadata": {},
     "output_type": "execute_result"
    },
    {
     "data": {
      "image/png": "[encoded data removed]",
      "text/plain": [
       "<matplotlib.figure.Figure at 0x27332c3c8>"
      ]
     },
     "metadata": {},
     "output_type": "display_data"
    }
   ],
   "source": [
    "sns.countplot(ratings_from_sentiment)"
   ]
  },
  {
   "cell_type": "code",
   "execution_count": null,
   "metadata": {
    "collapsed": true
   },
   "outputs": [],
   "source": []
  }
 ],
 "metadata": {
  "kernelspec": {
   "display_name": "Python 2",
   "language": "python",
   "name": "python2"
  },
  "language_info": {
   "codemirror_mode": {
    "name": "ipython",
    "version": 2
   },
   "file_extension": ".py",
   "mimetype": "text/x-python",
   "name": "python",
   "nbconvert_exporter": "python",
   "pygments_lexer": "ipython2",
   "version": "2.7.11"
  }
 },
 "nbformat": 4,
 "nbformat_minor": 2
}
